{
 "cells": [
  {
   "cell_type": "code",
   "execution_count": 24,
   "metadata": {},
   "outputs": [],
   "source": [
    "name = 0"
   ]
  },
  {
   "cell_type": "code",
   "execution_count": 25,
   "metadata": {},
   "outputs": [
    {
     "name": "stdout",
     "output_type": "stream",
     "text": [
      "The number 0 in letter is s\n",
      "The number 1 in letter is a\n",
      "The number 2 in letter is m\n",
      "The number 3 in letter is m\n",
      "The number 4 in letter is y\n"
     ]
    }
   ],
   "source": [
    "for letter in 'sammy':\n",
    "    print('The number {} in letter is {}'.format(name, letter))\n",
    "    name += 1     "
   ]
  },
  {
   "cell_type": "code",
   "execution_count": 35,
   "metadata": {},
   "outputs": [
    {
     "name": "stdout",
     "output_type": "stream",
     "text": [
      "The number 14 in letter is s \n",
      "The number 15 in letter is a \n",
      "The number 16 in letter is y \n"
     ]
    }
   ],
   "source": [
    "for letter in 'sammy':\n",
    "    if letter == 'm':\n",
    "        continue\n",
    "    print(f'The number {name} in letter is {letter} ')\n",
    "    name += 1 "
   ]
  },
  {
   "cell_type": "code",
   "execution_count": 36,
   "metadata": {},
   "outputs": [
    {
     "name": "stdout",
     "output_type": "stream",
     "text": [
      "The number 17 in letter is s \n",
      "The number 18 in letter is a \n"
     ]
    }
   ],
   "source": [
    "for letter in 'sammy':\n",
    "    if letter == 'm':\n",
    "        break\n",
    "    print(f'The number {name} in letter is {letter} ')\n",
    "    name += 1 "
   ]
  },
  {
   "cell_type": "code",
   "execution_count": 38,
   "metadata": {},
   "outputs": [
    {
     "name": "stdout",
     "output_type": "stream",
     "text": [
      "The number 24 in letter is s \n",
      "The number 25 in letter is a \n",
      "The number 26 in letter is m \n",
      "The number 27 in letter is m \n",
      "The number 28 in letter is y \n"
     ]
    }
   ],
   "source": [
    "for letter in 'sammy':\n",
    "    if letter == 'z':\n",
    "        pass\n",
    "    print(f'The number {name} in letter is {letter} ')\n",
    "    name += 1 "
   ]
  },
  {
   "cell_type": "code",
   "execution_count": 44,
   "metadata": {},
   "outputs": [
    {
     "name": "stdout",
     "output_type": "stream",
     "text": [
      "0\n",
      "G\n",
      "\n",
      "\n",
      "1\n",
      "V\n",
      "\n",
      "\n",
      "2\n",
      "R\n",
      "\n",
      "\n",
      "3\n",
      "K\n",
      "\n",
      "\n"
     ]
    }
   ],
   "source": [
    "word = 'GVRK'\n",
    "\n",
    "for x,y in enumerate(word):\n",
    "    print(x)\n",
    "    print(y)\n",
    "    print('\\n')\n",
    "# enumerate    "
   ]
  },
  {
   "cell_type": "code",
   "execution_count": 46,
   "metadata": {},
   "outputs": [
    {
     "data": {
      "text/plain": [
       "[0, 2, 4, 6, 8]"
      ]
     },
     "execution_count": 46,
     "metadata": {},
     "output_type": "execute_result"
    }
   ],
   "source": [
    "list(range(0,10,2))\n",
    "# range "
   ]
  },
  {
   "cell_type": "code",
   "execution_count": 51,
   "metadata": {},
   "outputs": [
    {
     "name": "stdout",
     "output_type": "stream",
     "text": [
      "(1, 'a', 10)\n",
      "(2, 'b', 20)\n",
      "(3, 'c', 30)\n"
     ]
    }
   ],
   "source": [
    "x = [1,2,3,4]\n",
    "y = ['a','b','c']\n",
    "z = [10,20,30]\n",
    "\n",
    "for mylist in zip(x,y,z):\n",
    "    print(mylist)\n",
    "    \n",
    "# Zip     "
   ]
  },
  {
   "cell_type": "code",
   "execution_count": 54,
   "metadata": {},
   "outputs": [
    {
     "data": {
      "text/plain": [
       "[(1, 'a', 10), (2, 'b', 20), (3, 'c', 30)]"
      ]
     },
     "execution_count": 54,
     "metadata": {},
     "output_type": "execute_result"
    }
   ],
   "source": [
    "x = [1,2,3,4]\n",
    "y = ['a','b','c']\n",
    "z = [10,20,30]\n",
    "\n",
    "list (zip(x,y,z))"
   ]
  },
  {
   "cell_type": "code",
   "execution_count": 55,
   "metadata": {},
   "outputs": [
    {
     "data": {
      "text/plain": [
       "True"
      ]
     },
     "execution_count": 55,
     "metadata": {},
     "output_type": "execute_result"
    }
   ],
   "source": [
    "12 in [14,15,12]"
   ]
  },
  {
   "cell_type": "code",
   "execution_count": 57,
   "metadata": {},
   "outputs": [],
   "source": [
    "my_list = [1,4,23,78]"
   ]
  },
  {
   "cell_type": "code",
   "execution_count": 58,
   "metadata": {},
   "outputs": [
    {
     "data": {
      "text/plain": [
       "1"
      ]
     },
     "execution_count": 58,
     "metadata": {},
     "output_type": "execute_result"
    }
   ],
   "source": [
    "min(my_list)"
   ]
  },
  {
   "cell_type": "code",
   "execution_count": 60,
   "metadata": {},
   "outputs": [
    {
     "data": {
      "text/plain": [
       "78"
      ]
     },
     "execution_count": 60,
     "metadata": {},
     "output_type": "execute_result"
    }
   ],
   "source": [
    "max(my_list)"
   ]
  },
  {
   "cell_type": "code",
   "execution_count": 63,
   "metadata": {},
   "outputs": [],
   "source": [
    "from random import shuffle\n",
    "# importing fuction from a library"
   ]
  },
  {
   "cell_type": "code",
   "execution_count": 64,
   "metadata": {},
   "outputs": [],
   "source": [
    "shuffle(my_list)"
   ]
  },
  {
   "cell_type": "code",
   "execution_count": 65,
   "metadata": {},
   "outputs": [
    {
     "data": {
      "text/plain": [
       "[78, 4, 23, 1]"
      ]
     },
     "execution_count": 65,
     "metadata": {},
     "output_type": "execute_result"
    }
   ],
   "source": [
    "my_list"
   ]
  },
  {
   "cell_type": "code",
   "execution_count": 66,
   "metadata": {},
   "outputs": [
    {
     "name": "stdout",
     "output_type": "stream",
     "text": [
      " What is your name :GVRK\n"
     ]
    }
   ],
   "source": [
    "output = input(' What is your name :')"
   ]
  },
  {
   "cell_type": "code",
   "execution_count": 67,
   "metadata": {},
   "outputs": [
    {
     "data": {
      "text/plain": [
       "'GVRK'"
      ]
     },
     "execution_count": 67,
     "metadata": {},
     "output_type": "execute_result"
    }
   ],
   "source": [
    "output"
   ]
  },
  {
   "cell_type": "code",
   "execution_count": null,
   "metadata": {},
   "outputs": [],
   "source": []
  }
 ],
 "metadata": {
  "kernelspec": {
   "display_name": "Python 3",
   "language": "python",
   "name": "python3"
  },
  "language_info": {
   "codemirror_mode": {
    "name": "ipython",
    "version": 3
   },
   "file_extension": ".py",
   "mimetype": "text/x-python",
   "name": "python",
   "nbconvert_exporter": "python",
   "pygments_lexer": "ipython3",
   "version": "3.7.0"
  }
 },
 "nbformat": 4,
 "nbformat_minor": 2
}
